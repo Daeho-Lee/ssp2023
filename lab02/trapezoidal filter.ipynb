{
 "cells": [
  {
   "cell_type": "code",
   "execution_count": 2,
   "metadata": {},
   "outputs": [
    {
     "data": {
      "image/png": "[encoded data removed]",
      "text/plain": [
       "<Figure size 432x288 with 1 Axes>"
      ]
     },
     "metadata": {
      "needs_background": "light"
     },
     "output_type": "display_data"
    }
   ],
   "source": [
    "import numpy as np\n",
    "import matplotlib.pyplot as plt\n",
    "import librosa\n",
    "import scipy\n",
    "import torchaudio\n",
    "import torch\n",
    "\n",
    "\n",
    "def conv1d(sequence, kernel):\n",
    "    output = []\n",
    "    length = len(sequence + 1)\n",
    "    sequence = np.pad(sequence, (0, kernel.size), 'constant', constant_values=0)\n",
    "    for i in range(length):\n",
    "        conv = [np.dot(sequence[i:i + kernel.size], kernel)]\n",
    "        output.append(conv)\n",
    "    output = np.array(output)\n",
    "\n",
    "    return output\n",
    "\n",
    "def trapezoidal(input_wav, save_wav,j):\n",
    "\n",
    "    first_wav = []\n",
    "    last_wav = []\n",
    "    for i, ratio in enumerate(np.arange(0.1,1,0.2)):\n",
    "        if i <3:\n",
    "            filter_length = 10\n",
    "        else:\n",
    "            filter_length = 9\n",
    "        filter = scipy.signal.firwin(filter_length, ratio, window='hamming')\n",
    "        first_wav.append(np.convolve(input_wav[i*filter_length:i*filter_length+filter_length], filter,\"same\"))\n",
    "        last_wav.append(np.convolve(input_wav[-(i*filter_length+filter_length+1):-(i*filter_length+1)], filter,\"same\"))\n",
    "\n",
    "    first_wav = np.concatenate(first_wav)\n",
    "    last_wav = np.concatenate(last_wav)\n",
    "\n",
    "    if j==0:\n",
    "        first_wav = np.array(first_wav)\n",
    "    else:\n",
    "        first_wav = (np.array(first_wav) + np.array(save_wav))/2\n",
    "    second_wav = input_wav[trapezoidal_length : output_length]\n",
    "\n",
    "    return np.concatenate((first_wav, second_wav)), last_wav\n",
    "\n",
    "\n",
    "\n",
    "wav, sr = librosa.load('./kdigits0-3.wav', sr=16000)\n",
    "load_length = sr//1000*13\n",
    "trapezoidal_length = sr//1000*3\n",
    "output_length = sr//1000*10\n",
    "last_wav = None\n",
    "trapezoided_wav = []\n",
    "\n",
    "for i in np.arange(len(wav)//output_length):\n",
    "    if i < len(wav)//output_length:\n",
    "        intput_wav = wav[i*output_length : i*output_length+load_length]\n",
    "        output_wav, last_wav = trapezoidal(intput_wav, last_wav, i)\n",
    "        trapezoided_wav = np.concatenate((trapezoided_wav, output_wav))\n",
    "\n",
    "\n",
    "trapezoided_wav = np.array(trapezoided_wav)\n",
    "\n",
    "torchaudio.save('./trapezoided.wav', torch.tensor(trapezoided_wav).T, 16000)\n",
    "\n",
    "plt.figure()\n",
    "plt.plot(trapezoided_wav)\n",
    "plt.show()"
   ]
  }
 ],
 "metadata": {
  "kernelspec": {
   "display_name": "new",
   "language": "python",
   "name": "new"
  },
  "language_info": {
   "codemirror_mode": {
    "name": "ipython",
    "version": 3
   },
   "file_extension": ".py",
   "mimetype": "text/x-python",
   "name": "python",
   "nbconvert_exporter": "python",
   "pygments_lexer": "ipython3",
   "version": "3.7.9"
  }
 },
 "nbformat": 4,
 "nbformat_minor": 4
}
