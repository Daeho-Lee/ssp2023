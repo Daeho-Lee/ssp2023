{
 "cells": [
  {
   "cell_type": "code",
   "execution_count": 1,
   "metadata": {},
   "outputs": [
    {
     "name": "stderr",
     "output_type": "stream",
     "text": [
      "C:\\Users\\PC00\\anaconda3\\envs\\new\\lib\\site-packages\\torchaudio\\extension\\extension.py:14: UserWarning: torchaudio C++ extension is not available.\n",
      "  warnings.warn('torchaudio C++ extension is not available.')\n",
      "C:\\Users\\PC00\\anaconda3\\envs\\new\\lib\\site-packages\\torchaudio\\backend\\utils.py:64: UserWarning: The interface of \"soundfile\" backend is planned to change in 0.8.0 to match that of \"sox_io\" backend and the current interface will be removed in 0.9.0. To use the new interface, do `torchaudio.USE_SOUNDFILE_LEGACY_INTERFACE = False` before setting the backend to \"soundfile\". Please refer to https://github.com/pytorch/audio/issues/903 for the detail.\n",
      "  'The interface of \"soundfile\" backend is planned to change in 0.8.0 to '\n"
     ]
    }
   ],
   "source": [
    "import librosa.display\n",
    "import numpy as np\n",
    "import scipy\n",
    "import torchaudio\n",
    "import torch\n",
    "\n",
    "\n",
    "\n",
    "def conv1d(sequence, kernel):\n",
    "        output = []\n",
    "        length = len(sequence+1)\n",
    "        sequence = np.pad(sequence[:,0], (0, kernel.size), 'constant', constant_values=0)\n",
    "        for i in range(length):\n",
    "                conv = np.dot(sequence[i:i+kernel.size], kernel)\n",
    "                output.append(conv)\n",
    "        return output\n",
    "\n",
    "def resample(x, origin_sr, resample_sr):\n",
    "        ratio = resample_sr/origin_sr\n",
    "        x_new = np.zeros((int(len(x) * ratio), 1))\n",
    "        last_frame = 0\n",
    "        for i, frame in enumerate(x):\n",
    "                x_new[int(i * ratio)] = frame\n",
    "                x_new[int(i * ratio + 1)] = (frame + last_frame) / 2\n",
    "                last_frame = frame\n",
    "        return x_new\n",
    "\n",
    "def decimation(x, origin_sr, resample_sr):\n",
    "        ratio = resample_sr/origin_sr\n",
    "        x_decimated = np.zeros((int(len(x) * ratio))+1)\n",
    "        h_filter = scipy.signal.firwin(51, ratio, window='hamming')\n",
    "        x_conv = conv1d(x, h_filter)\n",
    "        # x_new = scipy.signal.lfilter(h_filter, 1, x)\n",
    "        count = int(1/ratio)\n",
    "        for i in range(len(x)):\n",
    "                if count == int(1/ratio):\n",
    "                        x_decimated[int(i*ratio)]=x_conv[int(i)]\n",
    "                        count = 0\n",
    "                count += 1\n",
    "        return x_decimated\n",
    "\n",
    "\n",
    "# audio load\n",
    "x, Fs = librosa.load(r\"C:\\Users\\PC00\\Downloads\\ssp2023-main\\lab02\\kdigits0-3.wav\", sr=16000)\n",
    "\n",
    "# resampling\n",
    "x_32 = resample(x, Fs, 32000)\n",
    "x_48 = resample(x, Fs, 48000)\n",
    "x_44 = resample(x, Fs, 44100)\n",
    "\n",
    "# decimation\n",
    "dx_8_from32 = decimation(x_32, 32000, 8000)\n",
    "dx_8_from48 = decimation(x_48, 48000, 8000)\n",
    "dx_8_from44 = decimation(x_44, 44000, 8000)\n",
    "dx_11_from32 = decimation(x_32, 32000, 11025)\n",
    "dx_11_from48 = decimation(x_48, 48000, 11025)\n",
    "dx_11_from44 = decimation(x_44, 44000, 11025)\n",
    "\n",
    "# save audio\n",
    "torchaudio.save('./xxx_32k.wav', torch.tensor(x_32).T, 32000)\n",
    "torchaudio.save('./xxx_48k.wav', torch.tensor(x_48).T, 48000)\n",
    "torchaudio.save('./xxx_44k.wav', torch.tensor(x_44).T, 44100)\n",
    "\n",
    "torchaudio.save('./xxx_8k_from32.wav', torch.tensor(dx_8_from32).T, 8000)\n",
    "torchaudio.save('./xxx_8k_from48.wav', torch.tensor(dx_8_from48).T, 8000)\n",
    "torchaudio.save('./xxx_8k_from44.wav', torch.tensor(dx_8_from44).T, 8000)\n",
    "torchaudio.save('./xxx_11k_from32.wav', torch.tensor(dx_11_from32).T, 11025)\n",
    "torchaudio.save('./xxx_11k_from48.wav', torch.tensor(dx_11_from48).T, 11025)\n",
    "torchaudio.save('./xxx_11k_from44.wav', torch.tensor(dx_11_from44).T, 11025)\n",
    "\n"
   ]
  }
 ],
 "metadata": {
  "kernelspec": {
   "display_name": "new",
   "language": "python",
   "name": "new"
  },
  "language_info": {
   "codemirror_mode": {
    "name": "ipython",
    "version": 3
   },
   "file_extension": ".py",
   "mimetype": "text/x-python",
   "name": "python",
   "nbconvert_exporter": "python",
   "pygments_lexer": "ipython3",
   "version": "3.7.9"
  }
 },
 "nbformat": 4,
 "nbformat_minor": 4
}
